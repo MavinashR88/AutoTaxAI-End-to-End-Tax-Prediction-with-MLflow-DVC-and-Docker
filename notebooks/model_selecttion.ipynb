{
 "cells": [
  {
   "cell_type": "code",
   "execution_count": 77,
   "id": "1d7cfde0",
   "metadata": {},
   "outputs": [],
   "source": [
    "import numpy as np\n",
    "import tensorflow as tf\n",
    "from tensorflow.keras.models import Sequential\n",
    "from tensorflow.keras.layers import Dense, InputLayer\n",
    "from tensorflow.keras.callbacks import TensorBoard\n",
    "import datetime\n",
    "import os\n",
    "from sklearn.model_selection import train_test_split\n",
    "from sklearn.preprocessing import StandardScaler\n",
    "import pandas as pd"
   ]
  },
  {
   "cell_type": "code",
   "execution_count": 78,
   "id": "372afa35",
   "metadata": {},
   "outputs": [
    {
     "data": {
      "text/plain": [
       "array([[ 0.30669463, -0.46905615,  0.98516338, ..., -0.38387457,\n",
       "         0.35489258, -0.85816974],\n",
       "       [-0.35506872, -0.46905615, -0.75170852, ...,  0.32304459,\n",
       "        -1.38799511,  2.1700169 ],\n",
       "       [-0.40275616, -0.46905615,  0.37069021, ...,  0.44088232,\n",
       "         0.64734992, -0.05432383],\n",
       "       ...,\n",
       "       [-0.41092235, -0.46905615, -1.0158882 , ...,  0.32014958,\n",
       "        -0.32619052, -0.49478735],\n",
       "       [ 0.54343825, -0.46905615,  0.98516338, ...,  0.44088232,\n",
       "         0.6750148 , -0.86918133],\n",
       "       [-0.40457292, -0.46905615,  2.08712834, ...,  0.23919645,\n",
       "         0.64866729, -0.16443971]])"
      ]
     },
     "execution_count": 78,
     "metadata": {},
     "output_type": "execute_result"
    }
   ],
   "source": [
    "# Create data\n",
    "data = pd.read_csv(\"../data/raw/HousingData.csv\")\n",
    "data.dropna(inplace=True)\n",
    "\n",
    "X = data.drop(columns=\"TAX\").values\n",
    "y = data['TAX'].values\n",
    "\n",
    "\n",
    "X_train, X_val, y_train, y_val = train_test_split(X, y, test_size=0.2, random_state=42)\n",
    "\n",
    "# Scale input features\n",
    "scaler = StandardScaler()\n",
    "X_train = scaler.fit_transform(X_train)\n",
    "X_val = scaler.transform(X_val)\n",
    "X_train"
   ]
  },
  {
   "cell_type": "code",
   "execution_count": 79,
   "id": "b55ee5c0",
   "metadata": {},
   "outputs": [],
   "source": [
    "input_dim = X_train.shape[1]\n",
    "\n",
    "# 📌 Step 2: Create the Regression Model Function\n",
    "def create_regression_model(num_layers=2, units=64, learning_rate=1e-3):\n",
    "    model = Sequential()\n",
    "    model.add(InputLayer(input_shape=(input_dim,)))\n",
    "    for _ in range(num_layers):\n",
    "        model.add(Dense(units, activation='relu'))\n",
    "    model.add(Dense(1))  # Regression: No activation\n",
    "    model.compile(optimizer=tf.keras.optimizers.Adam(learning_rate),\n",
    "                  loss='mse', metrics=['mae'])\n",
    "    return model\n"
   ]
  },
  {
   "cell_type": "code",
   "execution_count": 80,
   "id": "1c0be730",
   "metadata": {},
   "outputs": [
    {
     "name": "stdout",
     "output_type": "stream",
     "text": [
      "🔁 Training model: 1 layers, 32 units\n"
     ]
    },
    {
     "name": "stderr",
     "output_type": "stream",
     "text": [
      "/home/avinash/anaconda3/envs/tf_env/lib/python3.9/site-packages/keras/src/layers/core/input_layer.py:27: UserWarning: Argument `input_shape` is deprecated. Use `shape` instead.\n",
      "  warnings.warn(\n"
     ]
    },
    {
     "name": "stdout",
     "output_type": "stream",
     "text": [
      "🔁 Training model: 1 layers, 64 units\n",
      "🔁 Training model: 2 layers, 32 units\n",
      "🔁 Training model: 2 layers, 64 units\n",
      "🔁 Training model: 3 layers, 32 units\n",
      "🔁 Training model: 3 layers, 64 units\n"
     ]
    }
   ],
   "source": [
    "layer_options = [1, 2, 3]\n",
    "unit_options = [32, 64]\n",
    "\n",
    "for num_layers in layer_options:\n",
    "    for units in unit_options:\n",
    "        # Create a unique log directory\n",
    "        run_name = f\"layers_{num_layers}_units_{units}_{datetime.datetime.now().strftime('%Y%m%d-%H%M%S')}\"\n",
    "        log_dir = os.path.join(\"logs\", \"regression_selection\", run_name)\n",
    "        tensorboard_callback = TensorBoard(log_dir=log_dir, histogram_freq=1)\n",
    "\n",
    "        print(f\"🔁 Training model: {num_layers} layers, {units} units\")\n",
    "        model = create_regression_model(num_layers=num_layers, units=units)\n",
    "        model.fit(X_train, y_train,\n",
    "                  epochs=20,\n",
    "                  validation_data=(X_val, y_val),\n",
    "                  callbacks=[tensorboard_callback],\n",
    "                  verbose=0)\n"
   ]
  },
  {
   "cell_type": "code",
   "execution_count": 81,
   "id": "8cfa4b45",
   "metadata": {},
   "outputs": [
    {
     "name": "stdout",
     "output_type": "stream",
     "text": [
      "The tensorboard extension is already loaded. To reload it, use:\n",
      "  %reload_ext tensorboard\n"
     ]
    },
    {
     "data": {
      "text/plain": [
       "Reusing TensorBoard on port 6008 (pid 29326), started 0:07:31 ago. (Use '!kill 29326' to kill it.)"
      ]
     },
     "metadata": {},
     "output_type": "display_data"
    },
    {
     "data": {
      "text/html": [
       "\n",
       "      <iframe id=\"tensorboard-frame-170ec47a3e86866c\" width=\"100%\" height=\"800\" frameborder=\"0\">\n",
       "      </iframe>\n",
       "      <script>\n",
       "        (function() {\n",
       "          const frame = document.getElementById(\"tensorboard-frame-170ec47a3e86866c\");\n",
       "          const url = new URL(\"http://localhost\");\n",
       "          const port = 6008;\n",
       "          if (port) {\n",
       "            url.port = port;\n",
       "          }\n",
       "          frame.src = url;\n",
       "        })();\n",
       "      </script>\n",
       "    "
      ],
      "text/plain": [
       "<IPython.core.display.HTML object>"
      ]
     },
     "metadata": {},
     "output_type": "display_data"
    }
   ],
   "source": [
    "%reload_ext tensorboard\n",
    "%load_ext tensorboard\n",
    "%tensorboard --logdir logs/regression_selection\n"
   ]
  },
  {
   "cell_type": "code",
   "execution_count": null,
   "id": "106932d6",
   "metadata": {},
   "outputs": [],
   "source": [
    "# ### 📊 Summary Analysis (Model Selection - Regression)\n",
    "\n",
    "# | Model     | Train MSE | Val MSE | Overfit Gap | Verdict                        |\n",
    "# |-----------|-----------|---------|-------------|--------------------------------|\n",
    "# | 1L × 32   | 405.91    | 375.50  | 30.41       | ❌ Too shallow, high error     |\n",
    "# | 1L × 64   | 397.83    | 368.12  | 29.71       | ❌ Slightly better, still high |\n",
    "# | 2L × 32   | 284.17    | 262.63  | 21.54       | ✅ Decent improvement          |\n",
    "# | 2L × 64   | 158.46    | 164.23  | -5.77       | ✅✅ Balanced, strong choice   |\n",
    "# | 3L × 32   | 104.18    | 107.22  | -3.04       | ✅ Very good generalization    |\n",
    "# | 3L × 64   | 75.46     | 77.00   | -1.54       | 🏆 Best model overall ✅✅✅   |\n"
   ]
  },
  {
   "cell_type": "code",
   "execution_count": null,
   "id": "f2715580",
   "metadata": {},
   "outputs": [],
   "source": []
  }
 ],
 "metadata": {
  "kernelspec": {
   "display_name": "tf_env",
   "language": "python",
   "name": "python3"
  },
  "language_info": {
   "codemirror_mode": {
    "name": "ipython",
    "version": 3
   },
   "file_extension": ".py",
   "mimetype": "text/x-python",
   "name": "python",
   "nbconvert_exporter": "python",
   "pygments_lexer": "ipython3",
   "version": "3.9.21"
  }
 },
 "nbformat": 4,
 "nbformat_minor": 5
}
