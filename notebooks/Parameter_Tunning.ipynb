{
 "cells": [
  {
   "cell_type": "code",
   "execution_count": 47,
   "id": "5ac2b63b",
   "metadata": {},
   "outputs": [
    {
     "data": {
      "text/plain": [
       "True"
      ]
     },
     "execution_count": 47,
     "metadata": {},
     "output_type": "execute_result"
    }
   ],
   "source": [
    "import keras_tuner as kt\n",
    "import mlflow\n",
    "import mlflow.tensorflow\n",
    "from tensorflow import keras\n",
    "from tensorflow.keras import layers\n",
    "import tensorflow as tf\n",
    "import numpy as np\n",
    "# Ensure TensorFlow 2.x is used\n",
    "if not tf.__version__.startswith('2'):\n",
    "    raise ImportError(\"This script requires TensorFlow 2.x\")\n",
    "import os\n",
    "import pandas as pd\n",
    "from sklearn.preprocessing import StandardScaler\n",
    "from sklearn.model_selection import train_test_split\n",
    "from tensorflow.keras.callbacks import EarlyStopping\n",
    "from dotenv import load_dotenv\n",
    "\n",
    "load_dotenv()\n",
    "# Load environment variables from .env file\n",
    "dotenv.load_dotenv()\n"
   ]
  },
  {
   "cell_type": "code",
   "execution_count": null,
   "id": "5e8225fd",
   "metadata": {},
   "outputs": [
    {
     "name": "stderr",
     "output_type": "stream",
     "text": [
      "2025/06/15 16:58:50 INFO mlflow.tracking.fluent: Experiment with name 'hyperparameter tuning' does not exist. Creating a new experiment.\n"
     ]
    },
    {
     "data": {
      "text/plain": [
       "<Experiment: artifact_location='mlflow-artifacts:/6927c95704e74f4c8e57d365320a06a9', creation_time=1750024730748, experiment_id='0', last_update_time=1750024730748, lifecycle_stage='active', name='hyperparameter tuning', tags={}>"
      ]
     },
     "execution_count": 29,
     "metadata": {},
     "output_type": "execute_result"
    }
   ],
   "source": [
    "\n",
    "\n",
    "mlflow.set_tracking_uri(\"https://dagshub.com/MavinashR88/AutoTaxAI-End-to-End-Tax-Prediction-with-MLflow-DVC-and-Docker.mlflow\")\n",
    "mlflow.set_experiment(\"hyperparameter tuning\")\n",
    "\n"
   ]
  },
  {
   "cell_type": "code",
   "execution_count": 30,
   "id": "63f9302c",
   "metadata": {},
   "outputs": [],
   "source": [
    "# Create data\n",
    "data = pd.read_csv(\"../data/raw/HousingData.csv\")\n",
    "data.dropna(inplace=True)\n",
    "\n",
    "X = data.drop(columns=\"TAX\").values\n",
    "y = data['TAX'].values\n",
    "\n",
    "\n",
    "X_train, X_val, y_train, y_val = train_test_split(X, y, test_size=0.2, random_state=42)\n",
    "\n",
    "# Scale input features\n",
    "scaler = StandardScaler()\n",
    "X_train = scaler.fit_transform(X_train)\n",
    "X_val = scaler.transform(X_val)\n"
   ]
  },
  {
   "cell_type": "code",
   "execution_count": 31,
   "id": "53e48e45",
   "metadata": {},
   "outputs": [],
   "source": [
    "def build_model(hp):\n",
    "    model = keras.Sequential()\n",
    "    model.add(layers.Input(shape=(X_train.shape[1],)))\n",
    "\n",
    "    for i in range(3):\n",
    "        model.add(\n",
    "            layers.Dense(64, activation=hp.Choice(\"activation\", [\"relu\", \"tanh\"]))\n",
    "        )\n",
    "        model.add(\n",
    "            layers.Dropout(hp.Choice(\"dropout\", [0.1, 0.3, 0.5]))\n",
    "        )\n",
    "\n",
    "    model.add(layers.Dense(1, activation='linear'))  # Regression output\n",
    "\n",
    "    model.compile(\n",
    "        optimizer=hp.Choice(\"optimizer\", [\"adam\", \"rmsprop\"]),\n",
    "        loss=\"mean_squared_error\",\n",
    "        metrics=[\"mean_absolute_error\"]\n",
    "    )\n",
    "    return model\n"
   ]
  },
  {
   "cell_type": "code",
   "execution_count": 32,
   "id": "c97b96a7",
   "metadata": {},
   "outputs": [
    {
     "name": "stdout",
     "output_type": "stream",
     "text": [
      "Reloading Tuner from tuner_logs/tax_model_param_tuning/tuner0.json\n"
     ]
    }
   ],
   "source": [
    "tuner = kt.RandomSearch(\n",
    "    build_model,\n",
    "    objective=\"val_mean_absolute_error\",\n",
    "    max_trials=10,\n",
    "    executions_per_trial=1,\n",
    "    directory=\"tuner_logs\",\n",
    "    project_name=\"tax_model_param_tuning\"\n",
    ")\n",
    "\n",
    "early_stop = EarlyStopping(monitor='val_loss', patience=5, restore_best_weights=True)"
   ]
  },
  {
   "cell_type": "code",
   "execution_count": 33,
   "id": "befeecb6",
   "metadata": {},
   "outputs": [
    {
     "name": "stdout",
     "output_type": "stream",
     "text": [
      "Trial 10 Complete [00h 00m 12s]\n",
      "val_mean_absolute_error: 58.27195358276367\n",
      "\n",
      "Best val_mean_absolute_error So Far: 37.59938430786133\n",
      "Total elapsed time: 00h 30m 20s\n",
      "🏃 View run keras_tuner_search at: https://dagshub.com/MavinashR88/AutoTaxAI-End-to-End-Tax-Prediction-with-MLflow-DVC-and-Docker.mlflow/#/experiments/0/runs/1c48408724164e0380f4ace8b0f35968\n",
      "🧪 View experiment at: https://dagshub.com/MavinashR88/AutoTaxAI-End-to-End-Tax-Prediction-with-MLflow-DVC-and-Docker.mlflow/#/experiments/0\n"
     ]
    }
   ],
   "source": [
    "with mlflow.start_run(run_name=\"keras_tuner_search\"):\n",
    "    tuner.search(\n",
    "        X_train, y_train,\n",
    "        validation_split=0.2,\n",
    "        epochs=100,\n",
    "        batch_size=32,\n",
    "        callbacks=[early_stop],\n",
    "        verbose=1\n",
    "    )\n"
   ]
  },
  {
   "cell_type": "code",
   "execution_count": 41,
   "id": "86509871",
   "metadata": {},
   "outputs": [
    {
     "name": "stdout",
     "output_type": "stream",
     "text": [
      "🏃 View run best_model_final at: https://dagshub.com/MavinashR88/AutoTaxAI-End-to-End-Tax-Prediction-with-MLflow-DVC-and-Docker.mlflow/#/experiments/0/runs/cc7e100314234d5ba98881ca72e756bc\n",
      "🧪 View experiment at: https://dagshub.com/MavinashR88/AutoTaxAI-End-to-End-Tax-Prediction-with-MLflow-DVC-and-Docker.mlflow/#/experiments/0\n"
     ]
    }
   ],
   "source": [
    "best_model = tuner.get_best_models(1)[0]\n",
    "best_hp = tuner.get_best_hyperparameters(1)[0]\n",
    "\n",
    "with mlflow.start_run(run_name=\"best_model_final\", nested=True):\n",
    "    mlflow.log_params(best_hp.values)\n",
    "    loss, mae = best_model.evaluate(X_val, y_val, verbose=0)\n",
    "    mlflow.log_metric(\"test_mae\", mae)\n",
    "    # mlflow.keras.log_model(best_model, artifact_path=\"model\")\n",
    "\n"
   ]
  },
  {
   "cell_type": "code",
   "execution_count": null,
   "id": "e00798df",
   "metadata": {},
   "outputs": [],
   "source": [
    "\n"
   ]
  },
  {
   "cell_type": "code",
   "execution_count": null,
   "id": "ad12c1f0",
   "metadata": {},
   "outputs": [],
   "source": []
  }
 ],
 "metadata": {
  "kernelspec": {
   "display_name": "tf_env",
   "language": "python",
   "name": "python3"
  },
  "language_info": {
   "codemirror_mode": {
    "name": "ipython",
    "version": 3
   },
   "file_extension": ".py",
   "mimetype": "text/x-python",
   "name": "python",
   "nbconvert_exporter": "python",
   "pygments_lexer": "ipython3",
   "version": "3.9.21"
  }
 },
 "nbformat": 4,
 "nbformat_minor": 5
}
